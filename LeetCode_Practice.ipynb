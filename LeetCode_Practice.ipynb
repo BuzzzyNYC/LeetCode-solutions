{
  "nbformat": 4,
  "nbformat_minor": 0,
  "metadata": {
    "colab": {
      "name": "LeetCode Practice.ipynb",
      "provenance": [],
      "authorship_tag": "ABX9TyMC+96THj/Zl7pCZsf+MTBu"
    },
    "kernelspec": {
      "name": "python3",
      "display_name": "Python 3"
    },
    "language_info": {
      "name": "python"
    }
  },
  "cells": [
    {
      "cell_type": "markdown",
      "metadata": {
        "id": "pRxq-1w_znQY"
      },
      "source": [
        "# reverse integer"
      ]
    },
    {
      "cell_type": "markdown",
      "metadata": {
        "id": "NCKfujaBz1eA"
      },
      "source": [
        "Given a signed 32-bit integer x, return x with its digits reversed. If reversing x causes the value to go outside the signed 32-bit integer range $[-2^{31}, 2^{31} - 1]$, then return 0.\n",
        "\n",
        "Assume the environment does not allow you to store 64-bit integers (signed or unsigned).\n",
        "\n",
        "**Example 1**\n",
        "\n",
        "Input: x = 123\n",
        "\n",
        "Output: 321\n",
        "\n",
        "**Example 2:**\n",
        "\n",
        "Input: x = -123\n",
        "\n",
        "Output: -321\n",
        "\n",
        "**Example 3**:\n",
        "\n",
        "Input: x = 120\n",
        "\n",
        "Output: 21\n",
        "\n",
        "**Example 4:**\n",
        "\n",
        "Input: x = 0\n",
        "\n",
        "Output: 0"
      ]
    },
    {
      "cell_type": "code",
      "metadata": {
        "colab": {
          "base_uri": "https://localhost:8080/"
        },
        "id": "rDro8bqd01Yn",
        "outputId": "bdef16b3-7eab-4f22-c89c-1b7ee69a739c"
      },
      "source": [
        "x = int(input())\n",
        "def reverse(x):\n",
        "  rev = int(str(abs(x))[::-1])\n",
        "  return(-1*rev if x < 0 else rev) if rev.bit_length() < 32 else 0\n",
        "print(reverse(x))"
      ],
      "execution_count": 6,
      "outputs": [
        {
          "output_type": "stream",
          "text": [
            "-12344\n",
            "-44321\n"
          ],
          "name": "stdout"
        }
      ]
    },
    {
      "cell_type": "markdown",
      "metadata": {
        "id": "Fk3i9Ne02aiS"
      },
      "source": [
        "# Two Sum"
      ]
    },
    {
      "cell_type": "markdown",
      "metadata": {
        "id": "aRET28vD2krM"
      },
      "source": [
        "Given an array of integers `nums` and an integer `target`, return *indices of the two numbers such that they add up to `target`*.\n",
        "\n",
        "You may assume that each input would have **exactly one solution**, and you may not use the same element twice.\n",
        "\n",
        "You can return the answer in any order.\n",
        "\n",
        "**Example 1:**\n",
        "\n",
        "Input: nums = [2,7,11,15], target = 9\n",
        "\n",
        "Output: [0,1]\n",
        "Output: Because nums[0] + nums[1] == 9, we return [0, 1].\n",
        "\n",
        "**Example 2:**\n",
        "\n",
        "Input: nums = [3,2,4], target = 6\n",
        "\n",
        "Output: [1,2]\n",
        "\n",
        "**Example 3:**\n",
        "\n",
        "Input: nums = [3,3], target = 6\n",
        "\n",
        "Output: [0,1]"
      ]
    },
    {
      "cell_type": "code",
      "metadata": {
        "colab": {
          "base_uri": "https://localhost:8080/"
        },
        "id": "t3ZzCS643EBf",
        "outputId": "3808b15f-5c57-42a1-9745-08b440b09fdd"
      },
      "source": [
        "nums = list(map(int, input().split()))\n",
        "target = int(input())\n",
        "def twoSum(nums, target):\n",
        "  D = {}\n",
        "  for i in range(len(nums)):\n",
        "    sec = target - nums[i]\n",
        "    if sec not in D:\n",
        "      D[nums[i]] = i\n",
        "    else:\n",
        "      return[i, D[sec]]\n",
        "\n",
        "print(sorted(twoSum(nums, target)))"
      ],
      "execution_count": 16,
      "outputs": [
        {
          "output_type": "stream",
          "text": [
            "2 7 45 23\n",
            "25\n",
            "[0, 3]\n"
          ],
          "name": "stdout"
        }
      ]
    },
    {
      "cell_type": "markdown",
      "metadata": {
        "id": "lPJs19Pz5PGw"
      },
      "source": [
        "# Palindrome Number"
      ]
    },
    {
      "cell_type": "markdown",
      "metadata": {
        "id": "shKPTao25txX"
      },
      "source": [
        "Given an integer `x`, return `true` if `x` is palindrome integer.\n",
        "\n",
        "An integer is a **palindrome** when it reads the same backward as forward. For example, `121` is palindrome while `123` is not.\n",
        "\n",
        "**Example 1**:\n",
        "\n",
        "Input: x = 121\n",
        "\n",
        "Output: true\n",
        "\n",
        "**Example 2**:\n",
        "\n",
        "Input: x = -121\n",
        "\n",
        "Output: false\n",
        "\n",
        "Explanation: From left to right, it reads -121. From right to left, it becomes 121-. Therefore it is not a palindrome.\n",
        "\n",
        "**Example 3**:\n",
        "\n",
        "Input: x = 10\n",
        "\n",
        "Output: false\n",
        "\n",
        "Explanation: Reads 01 from right to left. Therefore it is not a palindrome.\n",
        "\n",
        "**Example 4:**\n",
        "\n",
        "Input: x = -101\n",
        "\n",
        "Output: false"
      ]
    },
    {
      "cell_type": "code",
      "metadata": {
        "colab": {
          "base_uri": "https://localhost:8080/"
        },
        "id": "DmPALJgI8ScE",
        "outputId": "f37571e6-c188-436b-f09f-6f5ad87004b3"
      },
      "source": [
        "x = input()\n",
        "def isPalindrome(x):\n",
        "  if int(x) > 0 and x[::-1] == x[::]:\n",
        "    return True\n",
        "  else:\n",
        "    return False\n",
        "print(isPalindrome(x))"
      ],
      "execution_count": 22,
      "outputs": [
        {
          "output_type": "stream",
          "text": [
            "-121\n",
            "False\n"
          ],
          "name": "stdout"
        }
      ]
    },
    {
      "cell_type": "code",
      "metadata": {
        "colab": {
          "base_uri": "https://localhost:8080/"
        },
        "id": "YgYyIb5AJfYq",
        "outputId": "fc5ba7da-7b7c-49cb-873d-9ad9f03486a2"
      },
      "source": [
        "x = int(input())\n",
        "def isPalindrome(x):\n",
        "  if x < 0:\n",
        "    return False\n",
        "  \n",
        "  return str(x) == str(x)[::-1]\n",
        "print(isPalindrome(x))"
      ],
      "execution_count": 24,
      "outputs": [
        {
          "output_type": "stream",
          "text": [
            "-121\n",
            "False\n"
          ],
          "name": "stdout"
        }
      ]
    }
  ]
}